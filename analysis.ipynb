{
 "cells": [
  {
   "cell_type": "markdown",
   "metadata": {},
   "source": [
    "# Candy features\n",
    "\n",
    "The goal of this analysis is not to develop a model that can predict the popularity of a candy.\n",
    "It is to **identify deciding features** that make a candy popular.\n",
    "\n",
    "I am not training a predictive model.\n",
    "1. The **dataset is too small** for meaningful prediction accuracy.\n",
    "2. Most machine learning models are **black boxes** that will not offer any insight as to **what features are important**."
   ]
  },
  {
   "cell_type": "code",
   "execution_count": 158,
   "metadata": {},
   "outputs": [],
   "source": [
    "import numpy as np\n",
    "import pandas as pd\n",
    "import seaborn as sns\n",
    "from scipy.stats import chi2_contingency, fisher_exact, ttest_ind\n",
    "from sklearn.decomposition import PCA\n",
    "from sklearn.ensemble import RandomForestRegressor\n",
    "from sklearn.preprocessing import StandardScaler\n",
    "from sklearn.tree import DecisionTreeRegressor, plot_tree\n",
    "from statsmodels.stats.multitest import multipletests"
   ]
  },
  {
   "cell_type": "markdown",
   "metadata": {},
   "source": [
    "Load the dataset"
   ]
  },
  {
   "cell_type": "code",
   "execution_count": 159,
   "metadata": {},
   "outputs": [],
   "source": [
    "data = pd.read_csv(\n",
    "    \"https://raw.githubusercontent.com/fivethirtyeight/data/master/candy-power-ranking/\"\n",
    "    \"candy-data.csv\",\n",
    "    index_col=0\n",
    ")"
   ]
  },
  {
   "cell_type": "markdown",
   "metadata": {},
   "source": [
    "## Exploratory data analysis"
   ]
  },
  {
   "cell_type": "markdown",
   "metadata": {},
   "source": [
    "### Data types and missing values\n",
    "\n",
    "First look at the columns and data types to get a rough idea."
   ]
  },
  {
   "cell_type": "code",
   "execution_count": 160,
   "metadata": {},
   "outputs": [
    {
     "name": "stdout",
     "output_type": "stream",
     "text": [
      "<class 'pandas.core.frame.DataFrame'>\n",
      "Index: 85 entries, 100 Grand to Whoppers\n",
      "Data columns (total 12 columns):\n",
      " #   Column            Non-Null Count  Dtype  \n",
      "---  ------            --------------  -----  \n",
      " 0   chocolate         85 non-null     int64  \n",
      " 1   fruity            85 non-null     int64  \n",
      " 2   caramel           85 non-null     int64  \n",
      " 3   peanutyalmondy    85 non-null     int64  \n",
      " 4   nougat            85 non-null     int64  \n",
      " 5   crispedricewafer  85 non-null     int64  \n",
      " 6   hard              85 non-null     int64  \n",
      " 7   bar               85 non-null     int64  \n",
      " 8   pluribus          85 non-null     int64  \n",
      " 9   sugarpercent      85 non-null     float64\n",
      " 10  pricepercent      85 non-null     float64\n",
      " 11  winpercent        85 non-null     float64\n",
      "dtypes: float64(3), int64(9)\n",
      "memory usage: 8.6+ KB\n"
     ]
    }
   ],
   "source": [
    "data.info()"
   ]
  },
  {
   "cell_type": "code",
   "execution_count": 161,
   "metadata": {},
   "outputs": [
    {
     "data": {
      "text/plain": [
       "chocolate           0\n",
       "fruity              0\n",
       "caramel             0\n",
       "peanutyalmondy      0\n",
       "nougat              0\n",
       "crispedricewafer    0\n",
       "hard                0\n",
       "bar                 0\n",
       "pluribus            0\n",
       "sugarpercent        0\n",
       "pricepercent        0\n",
       "winpercent          0\n",
       "dtype: int64"
      ]
     },
     "execution_count": 161,
     "metadata": {},
     "output_type": "execute_result"
    }
   ],
   "source": [
    "data.isna().sum()"
   ]
  },
  {
   "cell_type": "markdown",
   "metadata": {},
   "source": [
    "Most columns (or features, variables) are binary, denoting the presence or absence of certain flavor characteristics. There are no missing values, so no further data cleaning is necessary.\n",
    "\n",
    "Sorting the candy by their `winpercent` reveals the best rated candy in descending order."
   ]
  },
  {
   "cell_type": "code",
   "execution_count": 162,
   "metadata": {},
   "outputs": [
    {
     "data": {
      "text/html": [
       "<div>\n",
       "<style scoped>\n",
       "    .dataframe tbody tr th:only-of-type {\n",
       "        vertical-align: middle;\n",
       "    }\n",
       "\n",
       "    .dataframe tbody tr th {\n",
       "        vertical-align: top;\n",
       "    }\n",
       "\n",
       "    .dataframe thead th {\n",
       "        text-align: right;\n",
       "    }\n",
       "</style>\n",
       "<table border=\"1\" class=\"dataframe\">\n",
       "  <thead>\n",
       "    <tr style=\"text-align: right;\">\n",
       "      <th></th>\n",
       "      <th>chocolate</th>\n",
       "      <th>fruity</th>\n",
       "      <th>caramel</th>\n",
       "      <th>peanutyalmondy</th>\n",
       "      <th>nougat</th>\n",
       "      <th>crispedricewafer</th>\n",
       "      <th>hard</th>\n",
       "      <th>bar</th>\n",
       "      <th>pluribus</th>\n",
       "      <th>sugarpercent</th>\n",
       "      <th>pricepercent</th>\n",
       "      <th>winpercent</th>\n",
       "    </tr>\n",
       "    <tr>\n",
       "      <th>competitorname</th>\n",
       "      <th></th>\n",
       "      <th></th>\n",
       "      <th></th>\n",
       "      <th></th>\n",
       "      <th></th>\n",
       "      <th></th>\n",
       "      <th></th>\n",
       "      <th></th>\n",
       "      <th></th>\n",
       "      <th></th>\n",
       "      <th></th>\n",
       "      <th></th>\n",
       "    </tr>\n",
       "  </thead>\n",
       "  <tbody>\n",
       "    <tr>\n",
       "      <th>Reese's Peanut Butter cup</th>\n",
       "      <td>1</td>\n",
       "      <td>0</td>\n",
       "      <td>0</td>\n",
       "      <td>1</td>\n",
       "      <td>0</td>\n",
       "      <td>0</td>\n",
       "      <td>0</td>\n",
       "      <td>0</td>\n",
       "      <td>0</td>\n",
       "      <td>0.720</td>\n",
       "      <td>0.651</td>\n",
       "      <td>84.180290</td>\n",
       "    </tr>\n",
       "    <tr>\n",
       "      <th>Reese's Miniatures</th>\n",
       "      <td>1</td>\n",
       "      <td>0</td>\n",
       "      <td>0</td>\n",
       "      <td>1</td>\n",
       "      <td>0</td>\n",
       "      <td>0</td>\n",
       "      <td>0</td>\n",
       "      <td>0</td>\n",
       "      <td>0</td>\n",
       "      <td>0.034</td>\n",
       "      <td>0.279</td>\n",
       "      <td>81.866257</td>\n",
       "    </tr>\n",
       "    <tr>\n",
       "      <th>Twix</th>\n",
       "      <td>1</td>\n",
       "      <td>0</td>\n",
       "      <td>1</td>\n",
       "      <td>0</td>\n",
       "      <td>0</td>\n",
       "      <td>1</td>\n",
       "      <td>0</td>\n",
       "      <td>1</td>\n",
       "      <td>0</td>\n",
       "      <td>0.546</td>\n",
       "      <td>0.906</td>\n",
       "      <td>81.642914</td>\n",
       "    </tr>\n",
       "    <tr>\n",
       "      <th>Kit Kat</th>\n",
       "      <td>1</td>\n",
       "      <td>0</td>\n",
       "      <td>0</td>\n",
       "      <td>0</td>\n",
       "      <td>0</td>\n",
       "      <td>1</td>\n",
       "      <td>0</td>\n",
       "      <td>1</td>\n",
       "      <td>0</td>\n",
       "      <td>0.313</td>\n",
       "      <td>0.511</td>\n",
       "      <td>76.768600</td>\n",
       "    </tr>\n",
       "    <tr>\n",
       "      <th>Snickers</th>\n",
       "      <td>1</td>\n",
       "      <td>0</td>\n",
       "      <td>1</td>\n",
       "      <td>1</td>\n",
       "      <td>1</td>\n",
       "      <td>0</td>\n",
       "      <td>0</td>\n",
       "      <td>1</td>\n",
       "      <td>0</td>\n",
       "      <td>0.546</td>\n",
       "      <td>0.651</td>\n",
       "      <td>76.673782</td>\n",
       "    </tr>\n",
       "  </tbody>\n",
       "</table>\n",
       "</div>"
      ],
      "text/plain": [
       "                           chocolate  fruity  caramel  peanutyalmondy  nougat  \\\n",
       "competitorname                                                                  \n",
       "Reese's Peanut Butter cup          1       0        0               1       0   \n",
       "Reese's Miniatures                 1       0        0               1       0   \n",
       "Twix                               1       0        1               0       0   \n",
       "Kit Kat                            1       0        0               0       0   \n",
       "Snickers                           1       0        1               1       1   \n",
       "\n",
       "                           crispedricewafer  hard  bar  pluribus  \\\n",
       "competitorname                                                     \n",
       "Reese's Peanut Butter cup                 0     0    0         0   \n",
       "Reese's Miniatures                        0     0    0         0   \n",
       "Twix                                      1     0    1         0   \n",
       "Kit Kat                                   1     0    1         0   \n",
       "Snickers                                  0     0    1         0   \n",
       "\n",
       "                           sugarpercent  pricepercent  winpercent  \n",
       "competitorname                                                     \n",
       "Reese's Peanut Butter cup         0.720         0.651   84.180290  \n",
       "Reese's Miniatures                0.034         0.279   81.866257  \n",
       "Twix                              0.546         0.906   81.642914  \n",
       "Kit Kat                           0.313         0.511   76.768600  \n",
       "Snickers                          0.546         0.651   76.673782  "
      ]
     },
     "execution_count": 162,
     "metadata": {},
     "output_type": "execute_result"
    }
   ],
   "source": [
    "data.sort_values(\"winpercent\", ascending=False).head(5)"
   ]
  },
  {
   "cell_type": "markdown",
   "metadata": {},
   "source": [
    "### Distributions\n",
    "\n",
    "Have a look at the distributions of each column to identify any skewed features that would impact analysis."
   ]
  },
  {
   "cell_type": "code",
   "execution_count": 163,
   "metadata": {},
   "outputs": [
    {
     "data": {
      "image/png": "[encoded data removed]",
      "text/plain": [
       "<Figure size 1000x1000 with 12 Axes>"
      ]
     },
     "metadata": {},
     "output_type": "display_data"
    }
   ],
   "source": [
    "data.hist(figsize=(10, 10));"
   ]
  },
  {
   "cell_type": "markdown",
   "metadata": {},
   "source": [
    "Some of the binary features are imbalanced:\n",
    "- caramel\n",
    "- peanutyalmondy\n",
    "- nougat\n",
    "- crispedricewafer\n",
    "- hard\n",
    "- bar\n",
    "\n",
    "That means some of them are underrepresented in this dataset. That should be taken into account during analysis."
   ]
  },
  {
   "cell_type": "markdown",
   "metadata": {},
   "source": [
    "### Correlations\n",
    "\n",
    "Inspect the collinearity between features."
   ]
  },
  {
   "cell_type": "code",
   "execution_count": 164,
   "metadata": {},
   "outputs": [
    {
     "data": {
      "image/png": "[encoded data removed]",
      "text/plain": [
       "<Figure size 640x480 with 2 Axes>"
      ]
     },
     "metadata": {},
     "output_type": "display_data"
    }
   ],
   "source": [
    "corr = data.select_dtypes('number').corr()\n",
    "sns.heatmap(corr, cmap='coolwarm', vmin=-1, vmax=1, linewidth=1);"
   ]
  },
  {
   "cell_type": "markdown",
   "metadata": {},
   "source": [
    "Findings at first glance.\n",
    "\n",
    "- If a candy is `fruity`, it is usually not `chocolate`, `caramel`, `peanutyalmondy`, `nougat`, `crispedricewafer`, `bar`.\n",
    "- If a candy is a `bar`, it is usually not one of many in a bag or box (`pluribus`).\n",
    "- The `winpercent` is correlated with `chocolate` and anti-correlated with `fruity`.\n",
    "- The `sugarpercent` shows little correlation with any characteristics (aside from `pricepercent` and `winpercent`).\n",
    "- `fruity`, `hard`, and `pluribus` candy show generally a low `winpercent`."
   ]
  },
  {
   "cell_type": "markdown",
   "metadata": {},
   "source": [
    "## Analysis\n",
    "\n",
    "Let's now analyze the feature and which are deciding factors in the candy's popularity."
   ]
  },
  {
   "cell_type": "code",
   "execution_count": 165,
   "metadata": {},
   "outputs": [],
   "source": [
    "# Split data into features and target\n",
    "X = data.copy()\n",
    "y = X.pop(\"winpercent\")"
   ]
  },
  {
   "cell_type": "markdown",
   "metadata": {},
   "source": [
    "## Features from decision tree\n",
    "\n",
    "I will first train a decision tree on the data. Not to predict the target, but to obtain a ranking of feature importance.\n",
    "\n",
    "Because I am not interested in creating a prediction model, I am not splitting the data into training and testing set."
   ]
  },
  {
   "cell_type": "code",
   "execution_count": 166,
   "metadata": {},
   "outputs": [
    {
     "data": {
      "image/png": "[encoded data removed]",
      "text/plain": [
       "<Figure size 640x480 with 1 Axes>"
      ]
     },
     "metadata": {},
     "output_type": "display_data"
    }
   ],
   "source": [
    "dt = DecisionTreeRegressor(max_depth=3, random_state=123)\n",
    "dt.fit(X.drop(columns=\"pricepercent\"), y)\n",
    "plot_tree(dt, feature_names=X.columns, impurity=False, filled=True, rounded=True, fontsize=5);"
   ]
  },
  {
   "cell_type": "markdown",
   "metadata": {},
   "source": [
    "From the visual depiction of the decision tree, I can get an idea about the important features: `chocolate` might be the most deciding factor, possibly followed by `fruity` and `peanutyalmondy`.\n",
    "\n",
    "To put this into quantifiable numbers, let's use the more powerful random forrest and inspect the **feature importance**."
   ]
  },
  {
   "cell_type": "code",
   "execution_count": 167,
   "metadata": {},
   "outputs": [
    {
     "data": {
      "text/html": [
       "<div>\n",
       "<style scoped>\n",
       "    .dataframe tbody tr th:only-of-type {\n",
       "        vertical-align: middle;\n",
       "    }\n",
       "\n",
       "    .dataframe tbody tr th {\n",
       "        vertical-align: top;\n",
       "    }\n",
       "\n",
       "    .dataframe thead th {\n",
       "        text-align: right;\n",
       "    }\n",
       "</style>\n",
       "<table border=\"1\" class=\"dataframe\">\n",
       "  <thead>\n",
       "    <tr style=\"text-align: right;\">\n",
       "      <th></th>\n",
       "      <th>Feature</th>\n",
       "      <th>Importance</th>\n",
       "    </tr>\n",
       "  </thead>\n",
       "  <tbody>\n",
       "    <tr>\n",
       "      <th>0</th>\n",
       "      <td>chocolate</td>\n",
       "      <td>0.407535</td>\n",
       "    </tr>\n",
       "    <tr>\n",
       "      <th>9</th>\n",
       "      <td>sugarpercent</td>\n",
       "      <td>0.321935</td>\n",
       "    </tr>\n",
       "    <tr>\n",
       "      <th>3</th>\n",
       "      <td>peanutyalmondy</td>\n",
       "      <td>0.065435</td>\n",
       "    </tr>\n",
       "    <tr>\n",
       "      <th>1</th>\n",
       "      <td>fruity</td>\n",
       "      <td>0.040557</td>\n",
       "    </tr>\n",
       "    <tr>\n",
       "      <th>5</th>\n",
       "      <td>crispedricewafer</td>\n",
       "      <td>0.035834</td>\n",
       "    </tr>\n",
       "  </tbody>\n",
       "</table>\n",
       "</div>"
      ],
      "text/plain": [
       "            Feature  Importance\n",
       "0         chocolate    0.407535\n",
       "9      sugarpercent    0.321935\n",
       "3    peanutyalmondy    0.065435\n",
       "1            fruity    0.040557\n",
       "5  crispedricewafer    0.035834"
      ]
     },
     "execution_count": 167,
     "metadata": {},
     "output_type": "execute_result"
    }
   ],
   "source": [
    "rf = RandomForestRegressor(n_estimators=1000, random_state=123)\n",
    "rf.fit(X.drop(columns=\"pricepercent\"), y)\n",
    "\n",
    "feature_importance = pd.DataFrame(dict(Feature=X.drop(columns=\"pricepercent\").columns,\n",
    "                                       Importance=rf.feature_importances_))\n",
    "feature_importance = feature_importance.sort_values(\"Importance\", ascending=False)\n",
    "feature_importance.head(5)"
   ]
  },
  {
   "cell_type": "markdown",
   "metadata": {},
   "source": [
    "This is a good initial understanding.\n",
    "However, it is important to note that the decision tree and random forest might not do a great job at modelling the problem.\n",
    "\n",
    "Instead, testing the statistical dependency of the win percentage to each feature will offer more insights."
   ]
  },
  {
   "cell_type": "markdown",
   "metadata": {},
   "source": [
    "## Statistical hypothesis testing on feature dependence\n",
    "\n",
    "For assessing which features are the most important for making well-received candy, I will turn to statistical hypothesis testing.\n",
    "\n",
    "For each feature, I will test whether it is independent from the target (`winpercent`).\n",
    "Since the features are mostly binary categories, I will also make the target binary.\n",
    "After all we are interested what makes a candy popular, not how popular a candy is in relative numbers.\n",
    "\n",
    "Because the win percentage denotes how well a given candy is rated in relation to all the others, the 50% mark divides \"good\" from \"bad\" candy."
   ]
  },
  {
   "cell_type": "code",
   "execution_count": 168,
   "metadata": {},
   "outputs": [],
   "source": [
    "y_binary = y > 50"
   ]
  },
  {
   "cell_type": "markdown",
   "metadata": {},
   "source": [
    "I will use a Chi-squared test for the categorical features and a t-test for the continuous features."
   ]
  },
  {
   "cell_type": "code",
   "execution_count": 169,
   "metadata": {},
   "outputs": [],
   "source": [
    "X_categorical = X.select_dtypes('int')  # For Chi-squared test\n",
    "X_continuous = X.select_dtypes('float')   # For t-test"
   ]
  },
  {
   "cell_type": "markdown",
   "metadata": {},
   "source": [
    "**Null-hypothesis:** The feature is independent from the target.\n",
    "\n",
    "My goal is to reject the null hypothesis at a confidence level alpha of 0.05.\n",
    "A probability of 5% of accepting a false-positive, seems reasonable for the business question."
   ]
  },
  {
   "cell_type": "code",
   "execution_count": 170,
   "metadata": {},
   "outputs": [],
   "source": [
    "alpha = 0.05"
   ]
  },
  {
   "cell_type": "markdown",
   "metadata": {},
   "source": [
    "For the Chi-squared tests I will construct a contingency table for each feature-target combination. Here is one example of a contingency table:"
   ]
  },
  {
   "cell_type": "code",
   "execution_count": 171,
   "metadata": {},
   "outputs": [
    {
     "data": {
      "text/html": [
       "<div>\n",
       "<style scoped>\n",
       "    .dataframe tbody tr th:only-of-type {\n",
       "        vertical-align: middle;\n",
       "    }\n",
       "\n",
       "    .dataframe tbody tr th {\n",
       "        vertical-align: top;\n",
       "    }\n",
       "\n",
       "    .dataframe thead th {\n",
       "        text-align: right;\n",
       "    }\n",
       "</style>\n",
       "<table border=\"1\" class=\"dataframe\">\n",
       "  <thead>\n",
       "    <tr style=\"text-align: right;\">\n",
       "      <th>chocolate</th>\n",
       "      <th>False</th>\n",
       "      <th>True</th>\n",
       "    </tr>\n",
       "    <tr>\n",
       "      <th>winpercent</th>\n",
       "      <th></th>\n",
       "      <th></th>\n",
       "    </tr>\n",
       "  </thead>\n",
       "  <tbody>\n",
       "    <tr>\n",
       "      <th>False</th>\n",
       "      <td>37</td>\n",
       "      <td>9</td>\n",
       "    </tr>\n",
       "    <tr>\n",
       "      <th>True</th>\n",
       "      <td>11</td>\n",
       "      <td>28</td>\n",
       "    </tr>\n",
       "  </tbody>\n",
       "</table>\n",
       "</div>"
      ],
      "text/plain": [
       "chocolate   False  True \n",
       "winpercent              \n",
       "False          37      9\n",
       "True           11     28"
      ]
     },
     "execution_count": 171,
     "metadata": {},
     "output_type": "execute_result"
    }
   ],
   "source": [
    "pd.crosstab(y_binary, data.chocolate.astype(\"bool\"))"
   ]
  },
  {
   "cell_type": "markdown",
   "metadata": {},
   "source": [
    "I iterate over all features and obtain their p-value indicating whether the null-hypothesis is accepted or rejected."
   ]
  },
  {
   "cell_type": "code",
   "execution_count": 172,
   "metadata": {},
   "outputs": [],
   "source": [
    "pvalues = dict()"
   ]
  },
  {
   "cell_type": "code",
   "execution_count": 173,
   "metadata": {},
   "outputs": [],
   "source": [
    "for col in X.columns:\n",
    "    if col in X_categorical.columns:\n",
    "        # Chi-squared test for categorical features\n",
    "        contigency_table = pd.crosstab(y_binary, X_categorical[col])\n",
    "        chi, pvalue, dof, exp = chi2_contingency(contigency_table)\n",
    "        if exp.min() < 5:\n",
    "            pvalue = fisher_exact(contigency_table)[1]\n",
    "    else:\n",
    "        # T-test for continuous features\n",
    "        ttest, pvalue = ttest_ind(X_continuous.loc[y_binary, col],\n",
    "                                  X_continuous.loc[~y_binary, col])\n",
    "    # Store the p-value\n",
    "    pvalues[col] = pvalue"
   ]
  },
  {
   "cell_type": "code",
   "execution_count": 174,
   "metadata": {},
   "outputs": [],
   "source": [
    "# Make and sort DataFrame with selected features\n",
    "selected_features = pd.DataFrame(list(pvalues.items()),\n",
    "                                 columns=['feature', 'pvalue']).sort_values(by='pvalue')"
   ]
  },
  {
   "cell_type": "markdown",
   "metadata": {},
   "source": [
    "Because I ran multiple tests, I need to perform Bonferroni correction on the alpha value (or the p-values) to account for the accumulated probabilities."
   ]
  },
  {
   "cell_type": "code",
   "execution_count": 175,
   "metadata": {},
   "outputs": [
    {
     "data": {
      "text/html": [
       "<div>\n",
       "<style scoped>\n",
       "    .dataframe tbody tr th:only-of-type {\n",
       "        vertical-align: middle;\n",
       "    }\n",
       "\n",
       "    .dataframe tbody tr th {\n",
       "        vertical-align: top;\n",
       "    }\n",
       "\n",
       "    .dataframe thead th {\n",
       "        text-align: right;\n",
       "    }\n",
       "</style>\n",
       "<table border=\"1\" class=\"dataframe\">\n",
       "  <thead>\n",
       "    <tr style=\"text-align: right;\">\n",
       "      <th></th>\n",
       "      <th>feature</th>\n",
       "      <th>pvalue</th>\n",
       "      <th>corrected_pvalue</th>\n",
       "      <th>significant</th>\n",
       "    </tr>\n",
       "  </thead>\n",
       "  <tbody>\n",
       "    <tr>\n",
       "      <th>0</th>\n",
       "      <td>chocolate</td>\n",
       "      <td>0.000004</td>\n",
       "      <td>0.000042</td>\n",
       "      <td>True</td>\n",
       "    </tr>\n",
       "    <tr>\n",
       "      <th>7</th>\n",
       "      <td>bar</td>\n",
       "      <td>0.000531</td>\n",
       "      <td>0.005844</td>\n",
       "      <td>True</td>\n",
       "    </tr>\n",
       "    <tr>\n",
       "      <th>10</th>\n",
       "      <td>pricepercent</td>\n",
       "      <td>0.000679</td>\n",
       "      <td>0.007472</td>\n",
       "      <td>True</td>\n",
       "    </tr>\n",
       "    <tr>\n",
       "      <th>6</th>\n",
       "      <td>hard</td>\n",
       "      <td>0.002118</td>\n",
       "      <td>0.023293</td>\n",
       "      <td>True</td>\n",
       "    </tr>\n",
       "    <tr>\n",
       "      <th>3</th>\n",
       "      <td>peanutyalmondy</td>\n",
       "      <td>0.002891</td>\n",
       "      <td>0.031800</td>\n",
       "      <td>True</td>\n",
       "    </tr>\n",
       "    <tr>\n",
       "      <th>1</th>\n",
       "      <td>fruity</td>\n",
       "      <td>0.009364</td>\n",
       "      <td>0.103002</td>\n",
       "      <td>False</td>\n",
       "    </tr>\n",
       "    <tr>\n",
       "      <th>5</th>\n",
       "      <td>crispedricewafer</td>\n",
       "      <td>0.044367</td>\n",
       "      <td>0.488032</td>\n",
       "      <td>False</td>\n",
       "    </tr>\n",
       "    <tr>\n",
       "      <th>2</th>\n",
       "      <td>caramel</td>\n",
       "      <td>0.071010</td>\n",
       "      <td>0.781110</td>\n",
       "      <td>False</td>\n",
       "    </tr>\n",
       "    <tr>\n",
       "      <th>9</th>\n",
       "      <td>sugarpercent</td>\n",
       "      <td>0.094916</td>\n",
       "      <td>1.000000</td>\n",
       "      <td>False</td>\n",
       "    </tr>\n",
       "    <tr>\n",
       "      <th>4</th>\n",
       "      <td>nougat</td>\n",
       "      <td>0.239108</td>\n",
       "      <td>1.000000</td>\n",
       "      <td>False</td>\n",
       "    </tr>\n",
       "    <tr>\n",
       "      <th>8</th>\n",
       "      <td>pluribus</td>\n",
       "      <td>0.241589</td>\n",
       "      <td>1.000000</td>\n",
       "      <td>False</td>\n",
       "    </tr>\n",
       "  </tbody>\n",
       "</table>\n",
       "</div>"
      ],
      "text/plain": [
       "             feature    pvalue  corrected_pvalue  significant\n",
       "0          chocolate  0.000004          0.000042         True\n",
       "7                bar  0.000531          0.005844         True\n",
       "10      pricepercent  0.000679          0.007472         True\n",
       "6               hard  0.002118          0.023293         True\n",
       "3     peanutyalmondy  0.002891          0.031800         True\n",
       "1             fruity  0.009364          0.103002        False\n",
       "5   crispedricewafer  0.044367          0.488032        False\n",
       "2            caramel  0.071010          0.781110        False\n",
       "9       sugarpercent  0.094916          1.000000        False\n",
       "4             nougat  0.239108          1.000000        False\n",
       "8           pluribus  0.241589          1.000000        False"
      ]
     },
     "execution_count": 175,
     "metadata": {},
     "output_type": "execute_result"
    }
   ],
   "source": [
    "# Apply Bonferroni correction\n",
    "p_values_list = selected_features['pvalue'].tolist()\n",
    "significant, corrected_pvalues = multipletests(p_values_list, alpha=alpha, is_sorted=True,\n",
    "                                               method='bonferroni')[:2]\n",
    "\n",
    "# Add corrected p-values to the DataFrame\n",
    "selected_features['corrected_pvalue'] = corrected_pvalues\n",
    "selected_features['significant'] = significant\n",
    "\n",
    "selected_features"
   ]
  },
  {
   "cell_type": "markdown",
   "metadata": {},
   "source": [
    "From the dataframe above, I select the features that are marked with significant, that is, the features unlikely to be independent from the target."
   ]
  },
  {
   "cell_type": "code",
   "execution_count": 176,
   "metadata": {},
   "outputs": [
    {
     "data": {
      "text/html": [
       "<div>\n",
       "<style scoped>\n",
       "    .dataframe tbody tr th:only-of-type {\n",
       "        vertical-align: middle;\n",
       "    }\n",
       "\n",
       "    .dataframe tbody tr th {\n",
       "        vertical-align: top;\n",
       "    }\n",
       "\n",
       "    .dataframe thead th {\n",
       "        text-align: right;\n",
       "    }\n",
       "</style>\n",
       "<table border=\"1\" class=\"dataframe\">\n",
       "  <thead>\n",
       "    <tr style=\"text-align: right;\">\n",
       "      <th></th>\n",
       "      <th>feature</th>\n",
       "      <th>corrected_pvalue</th>\n",
       "    </tr>\n",
       "  </thead>\n",
       "  <tbody>\n",
       "    <tr>\n",
       "      <th>0</th>\n",
       "      <td>chocolate</td>\n",
       "      <td>0.000042</td>\n",
       "    </tr>\n",
       "    <tr>\n",
       "      <th>7</th>\n",
       "      <td>bar</td>\n",
       "      <td>0.005844</td>\n",
       "    </tr>\n",
       "    <tr>\n",
       "      <th>10</th>\n",
       "      <td>pricepercent</td>\n",
       "      <td>0.007472</td>\n",
       "    </tr>\n",
       "    <tr>\n",
       "      <th>6</th>\n",
       "      <td>hard</td>\n",
       "      <td>0.023293</td>\n",
       "    </tr>\n",
       "    <tr>\n",
       "      <th>3</th>\n",
       "      <td>peanutyalmondy</td>\n",
       "      <td>0.031800</td>\n",
       "    </tr>\n",
       "  </tbody>\n",
       "</table>\n",
       "</div>"
      ],
      "text/plain": [
       "           feature  corrected_pvalue\n",
       "0        chocolate          0.000042\n",
       "7              bar          0.005844\n",
       "10    pricepercent          0.007472\n",
       "6             hard          0.023293\n",
       "3   peanutyalmondy          0.031800"
      ]
     },
     "execution_count": 176,
     "metadata": {},
     "output_type": "execute_result"
    }
   ],
   "source": [
    "selected_features = selected_features.loc[selected_features['significant'], ['feature',\n",
    "                                                                             'corrected_pvalue']]\n",
    "selected_features"
   ]
  },
  {
   "cell_type": "markdown",
   "metadata": {},
   "source": [
    "Let's inspect the dependent features further:\n",
    "\n",
    "- `pricepercent` does not offer any information with regard to the business question: The retail price of a candy is not likely causally related to its taste. If anything, it's probably the other way around or a mere correlation to the popularity of its brand."
   ]
  },
  {
   "cell_type": "code",
   "execution_count": 177,
   "metadata": {},
   "outputs": [
    {
     "data": {
      "text/html": [
       "<div>\n",
       "<style scoped>\n",
       "    .dataframe tbody tr th:only-of-type {\n",
       "        vertical-align: middle;\n",
       "    }\n",
       "\n",
       "    .dataframe tbody tr th {\n",
       "        vertical-align: top;\n",
       "    }\n",
       "\n",
       "    .dataframe thead th {\n",
       "        text-align: right;\n",
       "    }\n",
       "</style>\n",
       "<table border=\"1\" class=\"dataframe\">\n",
       "  <thead>\n",
       "    <tr style=\"text-align: right;\">\n",
       "      <th></th>\n",
       "      <th>feature</th>\n",
       "      <th>corrected_pvalue</th>\n",
       "    </tr>\n",
       "  </thead>\n",
       "  <tbody>\n",
       "    <tr>\n",
       "      <th>0</th>\n",
       "      <td>chocolate</td>\n",
       "      <td>0.000042</td>\n",
       "    </tr>\n",
       "    <tr>\n",
       "      <th>7</th>\n",
       "      <td>bar</td>\n",
       "      <td>0.005844</td>\n",
       "    </tr>\n",
       "    <tr>\n",
       "      <th>6</th>\n",
       "      <td>hard</td>\n",
       "      <td>0.023293</td>\n",
       "    </tr>\n",
       "    <tr>\n",
       "      <th>3</th>\n",
       "      <td>peanutyalmondy</td>\n",
       "      <td>0.031800</td>\n",
       "    </tr>\n",
       "  </tbody>\n",
       "</table>\n",
       "</div>"
      ],
      "text/plain": [
       "          feature  corrected_pvalue\n",
       "0       chocolate          0.000042\n",
       "7             bar          0.005844\n",
       "6            hard          0.023293\n",
       "3  peanutyalmondy          0.031800"
      ]
     },
     "execution_count": 177,
     "metadata": {},
     "output_type": "execute_result"
    }
   ],
   "source": [
    "selected_features = selected_features[selected_features.feature != \"pricepercent\"]\n",
    "selected_features"
   ]
  },
  {
   "cell_type": "code",
   "execution_count": 178,
   "metadata": {},
   "outputs": [],
   "source": [
    "selected_features = selected_features.feature.tolist()"
   ]
  },
  {
   "cell_type": "markdown",
   "metadata": {},
   "source": [
    "## Feature interaction\n",
    "\n",
    "Next, we can inspect the collinearity of the selected features with the other features.\n",
    "\n",
    "An absolute correlation of 0.3 is a common threshold."
   ]
  },
  {
   "cell_type": "code",
   "execution_count": 179,
   "metadata": {},
   "outputs": [],
   "source": [
    "threshold = 0.3"
   ]
  },
  {
   "cell_type": "code",
   "execution_count": 180,
   "metadata": {},
   "outputs": [],
   "source": [
    "corr = X.corr().abs()\n",
    "\n",
    "# Filter for strong correlations\n",
    "strong_corr = corr.loc[selected_features, :].stack().reset_index()\n",
    "strong_corr = strong_corr[(strong_corr[0] >= threshold) &\n",
    "                          (strong_corr.level_0 != strong_corr.level_1)]\n",
    "strong_corr.columns = ['feature1', 'feature2', 'correlation']\n",
    "\n",
    "# Remove duplicates\n",
    "strong_corr = strong_corr.drop_duplicates(subset=['feature1', 'feature2'])\n",
    "pairs = []\n",
    "to_drop = []\n",
    "for i, corr0 in strong_corr.iterrows():\n",
    "    pair = set(corr0[[\"feature1\", \"feature2\"]])\n",
    "    if pair not in pairs:\n",
    "        pairs.append(pair)\n",
    "    else:\n",
    "        to_drop.append(i)\n",
    "strong_corr = strong_corr.drop(to_drop, axis=0)"
   ]
  },
  {
   "cell_type": "markdown",
   "metadata": {},
   "source": [
    "From the determined pairs, create interaction terms."
   ]
  },
  {
   "cell_type": "code",
   "execution_count": 181,
   "metadata": {},
   "outputs": [],
   "source": [
    "for index, row in strong_corr.iterrows():\n",
    "    interaction_term = row['feature1'] + \"_\" + row['feature2']\n",
    "    X[interaction_term] = X[row['feature1']] * X[row['feature2']]"
   ]
  },
  {
   "cell_type": "markdown",
   "metadata": {},
   "source": [
    "Now repeat the hypothesis testing to find, if there are interesting combinations to consider."
   ]
  },
  {
   "cell_type": "code",
   "execution_count": 182,
   "metadata": {},
   "outputs": [],
   "source": [
    "inter_feat = X.columns[X.columns.str.contains('_')]\n",
    "\n",
    "X_categorical = X.select_dtypes('int')  # For Chi-squared test\n",
    "X_continuous = X.select_dtypes('float')   # For t-test"
   ]
  },
  {
   "cell_type": "code",
   "execution_count": 183,
   "metadata": {},
   "outputs": [],
   "source": [
    "for col in inter_feat:\n",
    "    if col in X_categorical.columns:\n",
    "        # Chi-squared test for categorical features\n",
    "        contigency_table = pd.crosstab(y_binary, X_categorical[col])\n",
    "        chi, pvalue, dof, exp = chi2_contingency(contigency_table)\n",
    "        if exp.min() < 5:\n",
    "            pvalue = fisher_exact(contigency_table)[1]\n",
    "    else:\n",
    "        # T-test for continuous features\n",
    "        ttest, pvalue = ttest_ind(X_continuous.loc[y_binary, col],\n",
    "                                  X_continuous.loc[~y_binary, col])\n",
    "    # Store the p-value\n",
    "    pvalues[col] = pvalue"
   ]
  },
  {
   "cell_type": "markdown",
   "metadata": {},
   "source": [
    "Again, apply the Bonferroni correction to obtain a file set of significantly dependent features."
   ]
  },
  {
   "cell_type": "code",
   "execution_count": 184,
   "metadata": {},
   "outputs": [
    {
     "data": {
      "text/html": [
       "<div>\n",
       "<style scoped>\n",
       "    .dataframe tbody tr th:only-of-type {\n",
       "        vertical-align: middle;\n",
       "    }\n",
       "\n",
       "    .dataframe tbody tr th {\n",
       "        vertical-align: top;\n",
       "    }\n",
       "\n",
       "    .dataframe thead th {\n",
       "        text-align: right;\n",
       "    }\n",
       "</style>\n",
       "<table border=\"1\" class=\"dataframe\">\n",
       "  <thead>\n",
       "    <tr style=\"text-align: right;\">\n",
       "      <th></th>\n",
       "      <th>feature</th>\n",
       "      <th>corrected_pvalue</th>\n",
       "    </tr>\n",
       "  </thead>\n",
       "  <tbody>\n",
       "    <tr>\n",
       "      <th>0</th>\n",
       "      <td>chocolate</td>\n",
       "      <td>0.000104</td>\n",
       "    </tr>\n",
       "    <tr>\n",
       "      <th>15</th>\n",
       "      <td>chocolate_bar</td>\n",
       "      <td>0.004623</td>\n",
       "    </tr>\n",
       "    <tr>\n",
       "      <th>12</th>\n",
       "      <td>chocolate_peanutyalmondy</td>\n",
       "      <td>0.004831</td>\n",
       "    </tr>\n",
       "    <tr>\n",
       "      <th>7</th>\n",
       "      <td>bar</td>\n",
       "      <td>0.014343</td>\n",
       "    </tr>\n",
       "    <tr>\n",
       "      <th>19</th>\n",
       "      <td>bar_caramel</td>\n",
       "      <td>0.034518</td>\n",
       "    </tr>\n",
       "  </tbody>\n",
       "</table>\n",
       "</div>"
      ],
      "text/plain": [
       "                     feature  corrected_pvalue\n",
       "0                  chocolate          0.000104\n",
       "15             chocolate_bar          0.004623\n",
       "12  chocolate_peanutyalmondy          0.004831\n",
       "7                        bar          0.014343\n",
       "19               bar_caramel          0.034518"
      ]
     },
     "execution_count": 184,
     "metadata": {},
     "output_type": "execute_result"
    }
   ],
   "source": [
    "# Make and sort DataFrame with selected features\n",
    "selected_features = pd.DataFrame(list(pvalues.items()),\n",
    "                                 columns=['feature', 'pvalue']).sort_values(by='pvalue')\n",
    "selected_features\n",
    "\n",
    "# Apply Bonferroni correction\n",
    "p_values_list = selected_features['pvalue'].tolist()\n",
    "significant, corrected_pvalues = multipletests(p_values_list, alpha=alpha, is_sorted=True,\n",
    "                                               method='bonferroni')[:2]\n",
    "\n",
    "# Add corrected p-values to the DataFrame\n",
    "selected_features['corrected_pvalue'] = corrected_pvalues\n",
    "selected_features['significant'] = significant\n",
    "\n",
    "# Only keep significant features\n",
    "selected_features = selected_features.loc[selected_features['significant'], ['feature',\n",
    "                                                                             'corrected_pvalue']]\n",
    "\n",
    "# Remove interaction terms with pricepercent\n",
    "selected_features = selected_features[~selected_features.feature.str.contains(\"pricepercent\")]\n",
    "\n",
    "selected_features"
   ]
  },
  {
   "cell_type": "markdown",
   "metadata": {},
   "source": [
    "From the first three, create a relative importance from the p-value."
   ]
  },
  {
   "cell_type": "code",
   "execution_count": 185,
   "metadata": {},
   "outputs": [
    {
     "data": {
      "image/png": "[encoded data removed]",
      "text/plain": [
       "<Figure size 640x480 with 1 Axes>"
      ]
     },
     "metadata": {},
     "output_type": "display_data"
    }
   ],
   "source": [
    "top_features = selected_features.feature[:3]\n",
    "top_pvalues = selected_features.corrected_pvalue.values[:3]\n",
    "\n",
    "importance_scores = -np.log10(top_pvalues)\n",
    "importance_scores_normalized = importance_scores / np.max(importance_scores)\n",
    "importance_scores_df = pd.DataFrame(dict(feature=top_features,\n",
    "                                         importance=importance_scores_normalized))\n",
    "\n",
    "ax = sns.barplot(importance_scores_df, x=\"importance\", y=\"feature\", orient='h')\n",
    "ax.set(title=\"Strength of feature dependence\", xlabel=\"Normalized P-value\", ylabel=None)\n",
    "ax.set_axis_off()\n",
    "for i, feature in enumerate(top_features):\n",
    "    ax.text(0, i, f\"{feature} \", fontsize=12, va=\"center\", ha=\"right\")\n",
    "    ax.text(importance_scores_normalized[i], i, f\" {importance_scores_normalized[i]*100:.0f}%\",\n",
    "            fontsize=10, va=\"center\", ha=\"left\")"
   ]
  },
  {
   "cell_type": "markdown",
   "metadata": {},
   "source": [
    "Chocolate is very strongly related to good candy, where as a chocolate bar or chocolate with peanuty/almondy flavors has high impact, too."
   ]
  }
 ],
 "metadata": {
  "kernelspec": {
   "display_name": "CandyAnalysis",
   "language": "python",
   "name": "python3"
  },
  "language_info": {
   "codemirror_mode": {
    "name": "ipython",
    "version": 3
   },
   "file_extension": ".py",
   "mimetype": "text/x-python",
   "name": "python",
   "nbconvert_exporter": "python",
   "pygments_lexer": "ipython3",
   "version": "3.12.4"
  }
 },
 "nbformat": 4,
 "nbformat_minor": 2
}
